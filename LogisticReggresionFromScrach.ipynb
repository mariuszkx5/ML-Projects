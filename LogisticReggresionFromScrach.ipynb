{
  "nbformat": 4,
  "nbformat_minor": 0,
  "metadata": {
    "colab": {
      "name": "LogisticReggresionFromScrach.ipynb",
      "provenance": [],
      "collapsed_sections": [],
      "toc_visible": true,
      "include_colab_link": true
    },
    "kernelspec": {
      "name": "python3",
      "display_name": "Python 3"
    }
  },
  "cells": [
    {
      "cell_type": "markdown",
      "metadata": {
        "id": "view-in-github",
        "colab_type": "text"
      },
      "source": [
        "<a href=\"https://colab.research.google.com/github/mariuszkx5/ML-Projects/blob/master/LogisticReggresionFromScrach.ipynb\" target=\"_parent\"><img src=\"https://colab.research.google.com/assets/colab-badge.svg\" alt=\"Open In Colab\"/></a>"
      ]
    },
    {
      "cell_type": "markdown",
      "metadata": {
        "id": "_zVfYjanWGWq",
        "colab_type": "text"
      },
      "source": [
        "Twoim zadaniem jest wytrenowanie klasyfikatora binarnego na podzbiorze zbioru MNIST, w którym wyróżniamy klasy (cyfry 0 i 1 mają zostać wyłączone ze zbioru):\n",
        " - Liczby pierwsze (2,3,5,7)\n",
        " - Liczby złożone (4,6,8,9)\n",
        "\n",
        "Napisz wydajną implementację modelu **regresji logistycznej** trenowanego algorytmem ***SGD z momentum***. Cały proces trenowania musisz napisać samodzielnie, w języku Python, korzystając z biblioteki numpy. Na potrzeby zadania niedozwolone jest korzystanie z gotowych implementacji optimizerów i modeli oraz bibliotek do automatycznego różniczkowania funkcji (np. Tensorflow, pytorch, autograd). \n",
        "\n",
        "Dobierz hiperparametry tak, aby uzyskać jak najlepszy wynik na zbiorze walidacyjnym. \n",
        "Wyciągnij i zapisz wnioski z przeprowadzonych eksperymentów.\n",
        "\n",
        "Zbiór MNIST dostępny jest pod linkami: \n",
        "\n",
        "(zbiór treningowy):\n",
        " - http://yann.lecun.com/exdb/mnist/train-images-idx3-ubyte.gz\n",
        " - http://yann.lecun.com/exdb/mnist/train-labels-idx1-ubyte.gz\n",
        "\n",
        "(zbiór walidacyjny):\n",
        " - http://yann.lecun.com/exdb/mnist/t10k-images-idx3-ubyte.gz\n",
        " - http://yann.lecun.com/exdb/mnist/t10k-labels-idx1-ubyte.gz\n",
        "\n"
      ]
    },
    {
      "cell_type": "markdown",
      "metadata": {
        "id": "gz0dzfoHEiRY",
        "colab_type": "text"
      },
      "source": [
        "# Downloading the Data"
      ]
    },
    {
      "cell_type": "code",
      "metadata": {
        "id": "ofWkuhsj_RUR",
        "colab_type": "code",
        "outputId": "c9e8d053-ae53-4a1e-f281-da982b2e987c",
        "colab": {
          "base_uri": "https://localhost:8080/",
          "height": 816
        }
      },
      "source": [
        "!wget http://yann.lecun.com/exdb/mnist/train-images-idx3-ubyte.gz\n",
        "!wget http://yann.lecun.com/exdb/mnist/train-labels-idx1-ubyte.gz\n",
        "!wget http://yann.lecun.com/exdb/mnist/t10k-images-idx3-ubyte.gz\n",
        "!wget http://yann.lecun.com/exdb/mnist/t10k-labels-idx1-ubyte.gz"
      ],
      "execution_count": 0,
      "outputs": [
        {
          "output_type": "stream",
          "text": [
            "--2020-04-16 08:52:29--  http://yann.lecun.com/exdb/mnist/train-images-idx3-ubyte.gz\n",
            "Resolving yann.lecun.com (yann.lecun.com)... 104.28.6.204, 104.28.7.204, 2606:4700:3031::681c:6cc, ...\n",
            "Connecting to yann.lecun.com (yann.lecun.com)|104.28.6.204|:80... connected.\n",
            "HTTP request sent, awaiting response... 200 OK\n",
            "Length: 9912422 (9.5M) [application/x-gzip]\n",
            "Saving to: ‘train-images-idx3-ubyte.gz.1’\n",
            "\n",
            "\r          train-ima   0%[                    ]       0  --.-KB/s               \r         train-imag   1%[                    ] 102.04K   447KB/s               \r        train-image  13%[=>                  ]   1.32M  3.07MB/s               \r       train-images  58%[==========>         ]   5.50M  8.76MB/s               \rtrain-images-idx3-u 100%[===================>]   9.45M  12.5MB/s    in 0.8s    \n",
            "\n",
            "2020-04-16 08:52:30 (12.5 MB/s) - ‘train-images-idx3-ubyte.gz.1’ saved [9912422/9912422]\n",
            "\n",
            "--2020-04-16 08:52:33--  http://yann.lecun.com/exdb/mnist/train-labels-idx1-ubyte.gz\n",
            "Resolving yann.lecun.com (yann.lecun.com)... 104.28.6.204, 104.28.7.204, 2606:4700:3031::681c:6cc, ...\n",
            "Connecting to yann.lecun.com (yann.lecun.com)|104.28.6.204|:80... connected.\n",
            "HTTP request sent, awaiting response... 200 OK\n",
            "Length: 28881 (28K) [application/x-gzip]\n",
            "Saving to: ‘train-labels-idx1-ubyte.gz.1’\n",
            "\n",
            "train-labels-idx1-u 100%[===================>]  28.20K  --.-KB/s    in 0.07s   \n",
            "\n",
            "2020-04-16 08:52:33 (410 KB/s) - ‘train-labels-idx1-ubyte.gz.1’ saved [28881/28881]\n",
            "\n",
            "--2020-04-16 08:52:37--  http://yann.lecun.com/exdb/mnist/t10k-images-idx3-ubyte.gz\n",
            "Resolving yann.lecun.com (yann.lecun.com)... 104.28.6.204, 104.28.7.204, 2606:4700:3031::681c:6cc, ...\n",
            "Connecting to yann.lecun.com (yann.lecun.com)|104.28.6.204|:80... connected.\n",
            "HTTP request sent, awaiting response... 200 OK\n",
            "Length: 1648877 (1.6M) [application/x-gzip]\n",
            "Saving to: ‘t10k-images-idx3-ubyte.gz.1’\n",
            "\n",
            "t10k-images-idx3-ub 100%[===================>]   1.57M  3.66MB/s    in 0.4s    \n",
            "\n",
            "2020-04-16 08:52:38 (3.66 MB/s) - ‘t10k-images-idx3-ubyte.gz.1’ saved [1648877/1648877]\n",
            "\n",
            "--2020-04-16 08:52:40--  http://yann.lecun.com/exdb/mnist/t10k-labels-idx1-ubyte.gz\n",
            "Resolving yann.lecun.com (yann.lecun.com)... 104.28.6.204, 104.28.7.204, 2606:4700:3031::681c:6cc, ...\n",
            "Connecting to yann.lecun.com (yann.lecun.com)|104.28.6.204|:80... connected.\n",
            "HTTP request sent, awaiting response... 200 OK\n",
            "Length: 4542 (4.4K) [application/x-gzip]\n",
            "Saving to: ‘t10k-labels-idx1-ubyte.gz.1’\n",
            "\n",
            "t10k-labels-idx1-ub 100%[===================>]   4.44K  --.-KB/s    in 0s      \n",
            "\n",
            "2020-04-16 08:52:40 (384 MB/s) - ‘t10k-labels-idx1-ubyte.gz.1’ saved [4542/4542]\n",
            "\n"
          ],
          "name": "stdout"
        }
      ]
    },
    {
      "cell_type": "code",
      "metadata": {
        "id": "1ek7afuU_RRt",
        "colab_type": "code",
        "outputId": "e349a59b-1dfa-4df6-9cd7-d3b79c13d389",
        "colab": {
          "base_uri": "https://localhost:8080/",
          "height": 72
        }
      },
      "source": [
        "!pip install idx2numpy"
      ],
      "execution_count": 0,
      "outputs": [
        {
          "output_type": "stream",
          "text": [
            "Requirement already satisfied: idx2numpy in /usr/local/lib/python3.6/dist-packages (1.2.2)\n",
            "Requirement already satisfied: six in /usr/local/lib/python3.6/dist-packages (from idx2numpy) (1.12.0)\n",
            "Requirement already satisfied: numpy in /usr/local/lib/python3.6/dist-packages (from idx2numpy) (1.18.2)\n"
          ],
          "name": "stdout"
        }
      ]
    },
    {
      "cell_type": "code",
      "metadata": {
        "id": "4wqk50TQ_RPr",
        "colab_type": "code",
        "colab": {}
      },
      "source": [
        "import idx2numpy\n",
        "import gzip\n",
        "import numpy as np"
      ],
      "execution_count": 0,
      "outputs": []
    },
    {
      "cell_type": "markdown",
      "metadata": {
        "id": "4hRAGw80EDZ4",
        "colab_type": "text"
      },
      "source": [
        "Train set"
      ]
    },
    {
      "cell_type": "code",
      "metadata": {
        "id": "hHgNem4BEDyH",
        "colab_type": "code",
        "colab": {}
      },
      "source": [
        "image_size = 28\n",
        "\n",
        "f = gzip.open('train-images-idx3-ubyte.gz','r')\n",
        "\n",
        "trainImages = idx2numpy.convert_from_file(f)\n",
        "trainImages.reshape(-1, image_size, image_size, 1)\n",
        "\n",
        "f = gzip.open('train-labels-idx1-ubyte.gz','r')\n",
        "\n",
        "trainLabels = idx2numpy.convert_from_file(f)"
      ],
      "execution_count": 0,
      "outputs": []
    },
    {
      "cell_type": "markdown",
      "metadata": {
        "id": "pA3EpiJXD6jQ",
        "colab_type": "text"
      },
      "source": [
        "Test set"
      ]
    },
    {
      "cell_type": "code",
      "metadata": {
        "id": "jvh5DM2gD6PI",
        "colab_type": "code",
        "colab": {}
      },
      "source": [
        "f = gzip.open('t10k-images-idx3-ubyte.gz','r')\n",
        "\n",
        "testImages = idx2numpy.convert_from_file(f)\n",
        "testImages.reshape(-1, image_size, image_size, 1)\n",
        "\n",
        "f = gzip.open('t10k-labels-idx1-ubyte.gz','r')\n",
        "\n",
        "testLabels = idx2numpy.convert_from_file(f)"
      ],
      "execution_count": 0,
      "outputs": []
    },
    {
      "cell_type": "markdown",
      "metadata": {
        "id": "4Xk5RDH_FUTS",
        "colab_type": "text"
      },
      "source": [
        "# Preparing the Data"
      ]
    },
    {
      "cell_type": "markdown",
      "metadata": {
        "id": "3Zu6NY8lL2h_",
        "colab_type": "text"
      },
      "source": [
        "Converting numbers to the Prime, Composite labels and removing 0 and 1 from dataset"
      ]
    },
    {
      "cell_type": "code",
      "metadata": {
        "id": "gxImq3AZEuAM",
        "colab_type": "code",
        "colab": {}
      },
      "source": [
        "def numb2bin(Images, Labels):\n",
        "  binLabels = []\n",
        "  Data = []\n",
        "  numbOfPrimes = 0\n",
        "  numbOfComposite = 0\n",
        "  \n",
        "  for i, item in enumerate(Labels):\n",
        "    if item in [2, 3, 5, 7]:\n",
        "      binLabels.append(1)\n",
        "      Data.append(Images[i])\n",
        "      numbOfPrimes += 1\n",
        "    elif item in [4, 6, 8, 9]:\n",
        "      binLabels.append(0)\n",
        "      Data.append(Images[i])\n",
        "      numbOfComposite += 1\n",
        "  \n",
        "  Data = np.array(Data).reshape(-1, 28*28)\n",
        "  binLabels = np.array(binLabels)\n",
        "  \n",
        "  return Data, binLabels, numbOfPrimes ,numbOfComposite"
      ],
      "execution_count": 0,
      "outputs": []
    },
    {
      "cell_type": "code",
      "metadata": {
        "id": "q-yV_3iB5Ozm",
        "colab_type": "code",
        "colab": {}
      },
      "source": [
        "trainImages, trainBinaryLabels, numbOfPrimes, numbOfComposite = numb2bin(trainImages, trainLabels)\n",
        "testImages, testBinaryLabels, *_ = numb2bin(testImages, testLabels)"
      ],
      "execution_count": 0,
      "outputs": []
    },
    {
      "cell_type": "code",
      "metadata": {
        "id": "FJfNZSVLOXU9",
        "colab_type": "code",
        "outputId": "7167c622-1f91-434f-8ccd-162ccddf618b",
        "colab": {
          "base_uri": "https://localhost:8080/",
          "height": 283
        }
      },
      "source": [
        "import matplotlib.pyplot as plt\n",
        "\n",
        "plt.bar(['Prime', 'Composite'], [numbOfPrimes, numbOfComposite])"
      ],
      "execution_count": 0,
      "outputs": [
        {
          "output_type": "execute_result",
          "data": {
            "text/plain": [
              "<BarContainer object of 2 artists>"
            ]
          },
          "metadata": {
            "tags": []
          },
          "execution_count": 48
        },
        {
          "output_type": "display_data",
          "data": {
            "image/png": "[encoded data removed]",
            "text/plain": [
              "<Figure size 432x288 with 1 Axes>"
            ]
          },
          "metadata": {
            "tags": [],
            "needs_background": "light"
          }
        }
      ]
    },
    {
      "cell_type": "markdown",
      "metadata": {
        "id": "OxNpxxSsO99F",
        "colab_type": "text"
      },
      "source": [
        "The training data are balanced"
      ]
    },
    {
      "cell_type": "markdown",
      "metadata": {
        "id": "YSTjE82BRp4i",
        "colab_type": "text"
      },
      "source": [
        "# Creating the model"
      ]
    },
    {
      "cell_type": "markdown",
      "metadata": {
        "id": "oko63ZrAcI9T",
        "colab_type": "text"
      },
      "source": [
        "Cost function --> cross entropy"
      ]
    },
    {
      "cell_type": "code",
      "metadata": {
        "id": "veKqr0wNPdAz",
        "colab_type": "code",
        "colab": {}
      },
      "source": [
        "class Model():\n",
        "  def __init__(self, lr = 0.01, momentum = 0.2, n_iters = 5):\n",
        "    self.lr = lr\n",
        "    self.n_iters = n_iters\n",
        "    self.momentum = momentum\n",
        "    self.decay_rate = None\n",
        "    self.weights = None\n",
        "    self.bias = None\n",
        "    self.steps = 0\n",
        "\n",
        "\n",
        "  def fit(self, X, y):\n",
        "    #init parameters\n",
        "    n_samples, n_features = X.shape\n",
        "    self.weights = np.zeros(n_features)\n",
        "    self.bias = 0\n",
        "    \n",
        "    dw_old = np.zeros(n_features)\n",
        "    db_old = 0\n",
        "\n",
        "    # Stochastic Gradient Decent with momentum\n",
        "    for _ in range(self.n_iters):\n",
        "      for i in range(n_samples):\n",
        "        rand_index = np.random.randint(0,n_samples)\n",
        "\n",
        "        Xi = X[rand_index,:]\n",
        "        yi = y[rand_index]\n",
        "\n",
        "        linear_model = np.dot(Xi, self.weights) + self.bias\n",
        "        y_predicted = self._sigmoid(linear_model)\n",
        "\n",
        "        # Learning rate Time-base declay --> lr = lr0/(1+kt)\n",
        "        self.decay_rate = self.lr/(n_samples*self.n_iters)\n",
        "        self.lr *= (1. / (1. + self.decay_rate * self.steps))\n",
        "        self.momentum *= (1. / (1. + self.decay_rate * self.steps))\n",
        "        \n",
        "        dw = (1/n_samples)*np.dot(Xi.T, (y_predicted-yi)) + self.momentum * dw_old\n",
        "        db = (1/n_samples)*np.sum(y_predicted-yi) + self.momentum * db_old\n",
        "        \n",
        "        self.weights -= self.lr * dw\n",
        "        self.bias -= self.lr * db\n",
        "\n",
        "        dw_old = dw\n",
        "        db_old = db\n",
        "\n",
        "        self.steps += 1\n",
        "\n",
        "\n",
        "  def predict(self, X):\n",
        "    linear_model = np.dot(X, self.weights) + self.bias\n",
        "    y_predicted = self._sigmoid(linear_model)\n",
        "    y_predicted_cls = [1 if i> 0.5 else 0 for i in y_predicted]\n",
        "    return np.array(y_predicted_cls)\n",
        "  \n",
        "\n",
        "  def _sigmoid(self, X):\n",
        "    return 1/(1 + np.exp(-X))\n",
        "\n",
        "\n",
        "  @staticmethod\n",
        "  def evaluate(y_true, y_pred):\n",
        "    accuracy = (np.sum(y_true == y_pred))/len(y_true)\n",
        "    return accuracy\n",
        "    \n",
        "\n",
        "  def get_params(self):\n",
        "    return {'lr': self.lr, 'n_iters' :self.n_iters, 'momentum': self.momentum}\n"
      ],
      "execution_count": 0,
      "outputs": []
    },
    {
      "cell_type": "markdown",
      "metadata": {
        "id": "YM_4uTxYbyC3",
        "colab_type": "text"
      },
      "source": [
        "# Choosing the optimal hyperparameters using Random Search and K-fold cross-validation"
      ]
    },
    {
      "cell_type": "code",
      "metadata": {
        "id": "iPDA6c7equE4",
        "colab_type": "code",
        "colab": {}
      },
      "source": [
        "from sklearn.model_selection import KFold\n",
        "\n",
        "def random_search_CV(X, y, n_trials = 1, cv = 3):\n",
        "  best_accuracy = 0\n",
        "  best_parameters = [None]*3\n",
        "  kf = KFold(n_splits=cv, shuffle=True, random_state=None)\n",
        "\n",
        "  for _ in range(n_trials):\n",
        "    # Random hyperparamaters\n",
        "    lr_exponent = 2*np.random.random_sample() + 1\n",
        "    lr = 10**(-lr_exponent)\n",
        "    momentum = 0.4*np.random.random_sample() + 0.4\n",
        "    n_iters = np.random.randint(12, 35)\n",
        "\n",
        "    # K-Fold Cross Validation\n",
        "    folds = kf.split(X)    \n",
        "    accuracy = [] \n",
        "\n",
        "    for fold in folds:   \n",
        "      training_indexes, validating_indexes = fold      \n",
        "      \n",
        "      train_X = X[training_indexes]\n",
        "      train_y = y[training_indexes]\n",
        "\n",
        "      validation_X = X[validating_indexes]\n",
        "      validation_y = y[validating_indexes]\n",
        "      \n",
        "      model = Model(n_iters=n_iters, lr=lr, momentum=momentum)\n",
        "      model.fit(X=train_X, y=train_y)\n",
        "      y_pred = model.predict(X=validation_X)\n",
        "\n",
        "      accuracy.append(model.evaluate(validation_y, y_pred))\n",
        "    \n",
        "    avg_accuracy = sum(accuracy)/cv\n",
        "\n",
        "    if best_accuracy < avg_accuracy:\n",
        "      best_accuracy = avg_accuracy\n",
        "      best_parameters = [lr, momentum, n_iters]\n",
        "      print('Best accuracy so far: {}'.format(best_accuracy))\n",
        "      print('Best parameters so far: lr = {}, momentum = {}, n_iter = {} '.format(lr, momentum, n_iters))\n",
        "\n",
        "  return best_parameters\n"
      ],
      "execution_count": 0,
      "outputs": []
    },
    {
      "cell_type": "code",
      "metadata": {
        "id": "aWiKFRWU-vkL",
        "colab_type": "code",
        "outputId": "c50c5573-efdd-4b76-c619-cad7ef60f73f",
        "colab": {
          "base_uri": "https://localhost:8080/",
          "height": 290
        }
      },
      "source": [
        "lr, momentum, n_iters = random_search_CV(X=trainImages, y=trainBinaryLabels, n_trials=50, cv=3)"
      ],
      "execution_count": 0,
      "outputs": [
        {
          "output_type": "stream",
          "text": [
            "Best accuracy so far: 0.9010034375040812\n",
            "Best parameters so far: lr = 0.034792478664685, momentum = 0.7647116289388838, n_iter = 13 \n",
            "Best accuracy so far: 0.9084821304305009\n",
            "Best parameters so far: lr = 0.003832057207562159, momentum = 0.6311155024128364, n_iter = 17 \n",
            "Best accuracy so far: 0.9087778527122982\n",
            "Best parameters so far: lr = 0.017272980561748398, momentum = 0.731229810113643, n_iter = 25 \n",
            "Best accuracy so far: 0.9091581036073827\n",
            "Best parameters so far: lr = 0.00902117931076619, momentum = 0.7039020768834343, n_iter = 28 \n",
            "Best accuracy so far: 0.9096018543922609\n",
            "Best parameters so far: lr = 0.0104379795267122, momentum = 0.6794452681295233, n_iter = 13 \n",
            "Best accuracy so far: 0.9096440417123007\n",
            "Best parameters so far: lr = 0.020020737698944514, momentum = 0.5562869361032033, n_iter = 15 \n",
            "Best accuracy so far: 0.9102988911039698\n",
            "Best parameters so far: lr = 0.010915607088151646, momentum = 0.7181983799889546, n_iter = 29 \n"
          ],
          "name": "stdout"
        },
        {
          "output_type": "execute_result",
          "data": {
            "text/plain": [
              "[0.010915607088151646, 0.7181983799889546, 29]"
            ]
          },
          "metadata": {
            "tags": []
          },
          "execution_count": 320
        }
      ]
    },
    {
      "cell_type": "markdown",
      "metadata": {
        "id": "QJbnTGfW38eK",
        "colab_type": "text"
      },
      "source": [
        "# Training the model and testing it on the unseen data"
      ]
    },
    {
      "cell_type": "code",
      "metadata": {
        "id": "WPZ8AvpdPc8E",
        "colab_type": "code",
        "colab": {}
      },
      "source": [
        "lr_clf = Model(n_iters = n_iters, lr = lr, momentum=momentum)"
      ],
      "execution_count": 0,
      "outputs": []
    },
    {
      "cell_type": "code",
      "metadata": {
        "id": "R1SBU3BaPczI",
        "colab_type": "code",
        "colab": {}
      },
      "source": [
        "lr_clf.fit(X=trainImages, y=trainBinaryLabels)"
      ],
      "execution_count": 0,
      "outputs": []
    },
    {
      "cell_type": "code",
      "metadata": {
        "id": "gdXcw0IZWlZ_",
        "colab_type": "code",
        "colab": {}
      },
      "source": [
        "y_pred = lr_clf.predict(X=testImages)"
      ],
      "execution_count": 0,
      "outputs": []
    },
    {
      "cell_type": "code",
      "metadata": {
        "id": "r2Zmcx6oldWK",
        "colab_type": "code",
        "outputId": "d1f9da6b-3782-4cb6-ff5b-9c93fb562d0b",
        "colab": {
          "base_uri": "https://localhost:8080/",
          "height": 35
        }
      },
      "source": [
        "lr_clf.evaluate(testBinaryLabels, y_pred)"
      ],
      "execution_count": 0,
      "outputs": [
        {
          "output_type": "execute_result",
          "data": {
            "text/plain": [
              "0.9188332276474318"
            ]
          },
          "metadata": {
            "tags": []
          },
          "execution_count": 30
        }
      ]
    },
    {
      "cell_type": "markdown",
      "metadata": {
        "id": "aABYtATfYYpd",
        "colab_type": "text"
      },
      "source": [
        "# Visualization of the model's operation"
      ]
    },
    {
      "cell_type": "code",
      "metadata": {
        "id": "n5zFqXn4Y8Cx",
        "colab_type": "code",
        "colab": {}
      },
      "source": [
        "def numb2labels(y):\n",
        "  return ['Prime' if i> 0.5 else 'Composite' for i in y]"
      ],
      "execution_count": 0,
      "outputs": []
    },
    {
      "cell_type": "code",
      "metadata": {
        "id": "ELs28d_6mTl1",
        "colab_type": "code",
        "outputId": "3dd3e97b-5587-4313-be36-9e97c04175d9",
        "colab": {
          "base_uri": "https://localhost:8080/",
          "height": 266
        }
      },
      "source": [
        "fig = plt.figure(figsize=(25, 4))\n",
        "\n",
        "for idx in np.arange(20):\n",
        "  ax = fig.add_subplot(2, 10, idx+1, xticks=[], yticks=[])\n",
        "  plt.imshow(testImages[idx].reshape(image_size, image_size))\n",
        "  ax.set_title(\"{} ({})\".format(numb2labels(y_pred)[idx], numb2labels(testBinaryLabels)[idx]), color=(\"green\" if y_pred[idx]==testBinaryLabels[idx] else \"red\"), fontsize = 10)"
      ],
      "execution_count": 0,
      "outputs": [
        {
          "output_type": "display_data",
          "data": {
            "image/png": "[encoded data removed]",
            "text/plain": [
              "<Figure size 1800x288 with 20 Axes>"
            ]
          },
          "metadata": {
            "tags": []
          }
        }
      ]
    },
    {
      "cell_type": "markdown",
      "metadata": {
        "id": "KfLvCraTYVeX",
        "colab_type": "text"
      },
      "source": [
        "# Summary"
      ]
    },
    {
      "cell_type": "markdown",
      "metadata": {
        "id": "TBt2_UskNCUZ",
        "colab_type": "text"
      },
      "source": [
        "\n",
        "* The logistic regression model has been implemented and trained by the SGD algorithm with momentum in accordance with the requirements of the task. \n",
        "Cross entropy function has been used as the cost function in the model training process. It has been decided to reduce the learning rate value along with the steps of the training algorithm to boost the performance of the model. It has been decided that the decay rate would be fixed and determined based on the equation decay_rate = lr/(n_samples*n_iters) to reduce the number of hyperparameters.\n",
        "\n",
        "* The Random Search and K-Fold cross-validation methods have been used to determine optimal Hyperparameters. These are time-consuming methods, but the small complexity of the built model has allowed their use. The best model accuracy equal **91.88%** for unseen data and has been determined for lr = 0.01092, momentum = 0.7182, n_iter = 29.\n",
        "\n",
        "* It is worth noting that the testing score (**91.88%**) is bigger than the validation score (**91.03%**). Maybe the testing dataset is less noisy. Probably the differences between prime and composite numbers in the test data are clearer.\n",
        "\n",
        "* In my opinion, the biggest weak point of the classification performance is the algorithm used. The linear regression is a very simple model, too simple to get better accuracy.\n",
        "\n",
        "* I think that using models such as CNN which take into account the context of a given pixel in a photo can allow for much better classification."
      ]
    },
    {
      "cell_type": "markdown",
      "metadata": {
        "id": "jLZo9oZSYpyb",
        "colab_type": "text"
      },
      "source": [
        "# References"
      ]
    },
    {
      "cell_type": "markdown",
      "metadata": {
        "id": "vujpcL3Z1GJY",
        "colab_type": "text"
      },
      "source": [
        "*  \"Deel Learning\",  Goodfellow Ian , Bengio Yoshua , Courville Aaron http://www.deeplearningbook.org/\n",
        "* https://towardsdatascience.com/learning-rate-schedules-and-adaptive-learning-rate-methods-for-deep-learning-2c8f433990d1\n",
        "* https://scikit-learn.org/stable/modules/sgd.html\n",
        "* https://towardsdatascience.com/random-search-vs-grid-search-for-hyperparameter-optimization-345e1422899d\n"
      ]
    }
  ]
}